{
  "nbformat": 4,
  "nbformat_minor": 0,
  "metadata": {
    "colab": {
      "name": "hamletbot",
      "provenance": [],
      "collapsed_sections": []
    },
    "kernelspec": {
      "name": "python3",
      "display_name": "Python 3"
    }
  },
  "cells": [
    {
      "cell_type": "code",
      "metadata": {
        "id": "4mz5b4sJZJuu",
        "colab_type": "code",
        "colab": {
          "base_uri": "https://localhost:8080/",
          "height": 71
        },
        "outputId": "c1a891c1-092a-455f-c34f-694c351d30f5"
      },
      "source": [
        "from textblob import TextBlob\n",
        "import re\n",
        "import random, time, tweepy\n",
        "import seaborn as sns\n",
        "sns.set(style=\"whitegrid\")"
      ],
      "execution_count": 1,
      "outputs": [
        {
          "output_type": "stream",
          "text": [
            "/usr/local/lib/python3.6/dist-packages/statsmodels/tools/_testing.py:19: FutureWarning: pandas.util.testing is deprecated. Use the functions in the public API at pandas.testing instead.\n",
            "  import pandas.util.testing as tm\n"
          ],
          "name": "stderr"
        }
      ]
    },
    {
      "cell_type": "code",
      "metadata": {
        "id": "afY4KNEbeR63",
        "colab_type": "code",
        "outputId": "aaab7120-5d92-4e5c-99c8-5093e594f4e7",
        "colab": {
          "base_uri": "https://localhost:8080/",
          "height": 85
        }
      },
      "source": [
        "text = \"sample_data/hamlet.txt\"\n",
        "print(\"Hamlet Character List: HAMLET, CLAUDIUS, GHOST, GERTRUDE, KING, QUEEN, \\nPOLONIUS, LAERTES, OPHELIA, HORATIO, FORTINBRAS, VOLTEMAND, CORNELIUS, \\nROSENCRANTZ, GUILDENSTERN, MARCELLUS, BARNARDO, FRANCISCO, OSRIC, REYNALDO\")\n",
        "play_character = input(\"Choose a Hamlet Character: \")"
      ],
      "execution_count": 2,
      "outputs": [
        {
          "output_type": "stream",
          "text": [
            "Hamlet Character List: HAMLET, CLAUDIUS, GHOST, GERTRUDE, KING, QUEEN, \n",
            "POLONIUS, LAERTES, OPHELIA, HORATIO, FORTINBRAS, VOLTEMAND, CORNELIUS, \n",
            "ROSENCRANTZ, GUILDENSTERN, MARCELLUS, BARNARDO, FRANCISCO, OSRIC, REYNALDO\n",
            "Choose a Hamlet Character: Hamlet\n"
          ],
          "name": "stdout"
        }
      ]
    },
    {
      "cell_type": "code",
      "metadata": {
        "id": "2mo9p-WJ-aAN",
        "colab_type": "code",
        "outputId": "da06e9c2-72be-4b41-9eb9-a453408a5b22",
        "colab": {
          "base_uri": "https://localhost:8080/",
          "height": 765
        }
      },
      "source": [
        "text = open(text).read() #entire text\n",
        "lines = text.split('\\n\\n') #split text by separate speech\n",
        "c_lines = \"\" #specific character lines\n",
        "\n",
        "#sentiment/speech analysis\n",
        "c_polarity = [] \n",
        "c_subjectivity = []\n",
        "count=0 #number of times the character speaks\n",
        "min_speech = None\n",
        "max_speech = None\n",
        "\n",
        "for i in lines: #going through each speech\n",
        "  if i.find(play_character.upper()+\".\")==0:\n",
        "    if min_speech is None:\n",
        "      min_speech = i\n",
        "      max_speech = i\n",
        "    elif len(i)<len(min_speech):\n",
        "      min_speech = i\n",
        "    elif len(i)>len(max_speech):\n",
        "      max_speech = i\n",
        "    c_polarity.append(TextBlob(i[7:]).sentiment.polarity)\n",
        "    c_subjectivity.append(TextBlob(i[7:]).sentiment.subjectivity)\n",
        "    c_lines+=i[7:]\n",
        "    count+=1\n",
        "words = text.split()\n",
        "\n",
        "#distant reading analysis\n",
        "print(\"Within the play, \" + play_character + \" speaks \" + str(count) + \" times.\")\n",
        "print(\"In total, \" + play_character + \" speaks \"+ str(len(c_lines.split()))+\" words.\")\n",
        "print(\"On average, \" + play_character + \" will speak for \"+ str(len(c_lines.split())//count) + \" words without stopping.\")\n",
        "print(\"\")\n",
        "print( play_character + \"'s shortest speech is \"+str(len(min_speech.split())-1)+\" words long\")\n",
        "print(min_speech)\n",
        "print(\"\")\n",
        "print(play_character + \"'s longest speech is \"+str(len(max_speech.split())-1)+\" words long\")\n",
        "print(max_speech)"
      ],
      "execution_count": 3,
      "outputs": [
        {
          "output_type": "stream",
          "text": [
            "Within the play, Hamlet speaks 358 times.\n",
            "In total, Hamlet speaks 10788 words.\n",
            "On average, Hamlet will speak for 30 words without stopping.\n",
            "\n",
            "Hamlet's shortest speech is 1 words long\n",
            "HAMLET. Why?\n",
            "\n",
            "Hamlet's longest speech is 459 words long\n",
            "HAMLET. Ay, so, God b’ wi’ ye. Now I am alone. O what a rogue and\n",
            "peasant slave am I! Is it not monstrous that this player here, But in a\n",
            "fiction, in a dream of passion, Could force his soul so to his own\n",
            "conceit That from her working all his visage wan’d; Tears in his eyes,\n",
            "distraction in’s aspect, A broken voice, and his whole function suiting\n",
            "With forms to his conceit? And all for nothing! For Hecuba? What’s\n",
            "Hecuba to him, or he to Hecuba, That he should weep for her? What would\n",
            "he do, Had he the motive and the cue for passion That I have? He would\n",
            "drown the stage with tears And cleave the general ear with horrid\n",
            "speech; Make mad the guilty, and appal the free, Confound the ignorant,\n",
            "and amaze indeed, The very faculties of eyes and ears. Yet I, A dull\n",
            "and muddy-mettled rascal, peak Like John-a-dreams, unpregnant of my\n",
            "cause, And can say nothing. No, not for a king Upon whose property and\n",
            "most dear life A damn’d defeat was made. Am I a coward? Who calls me\n",
            "villain, breaks my pate across? Plucks off my beard and blows it in my\n",
            "face? Tweaks me by the nose, gives me the lie i’ th’ throat As deep as\n",
            "to the lungs? Who does me this? Ha! ’Swounds, I should take it: for it\n",
            "cannot be But I am pigeon-liver’d, and lack gall To make oppression\n",
            "bitter, or ere this I should have fatted all the region kites With this\n",
            "slave’s offal. Bloody, bawdy villain! Remorseless, treacherous,\n",
            "lecherous, kindless villain! Oh vengeance! Why, what an ass am I! This\n",
            "is most brave, That I, the son of a dear father murder’d, Prompted to\n",
            "my revenge by heaven and hell, Must, like a whore, unpack my heart with\n",
            "words And fall a-cursing like a very drab, A scullion! Fie upon’t! Foh!\n",
            "About, my brain! I have heard That guilty creatures sitting at a play,\n",
            "Have by the very cunning of the scene, Been struck so to the soul that\n",
            "presently They have proclaim’d their malefactions. For murder, though\n",
            "it have no tongue, will speak With most miraculous organ. I’ll have\n",
            "these players Play something like the murder of my father Before mine\n",
            "uncle. I’ll observe his looks; I’ll tent him to the quick. If he but\n",
            "blench, I know my course. The spirit that I have seen May be the devil,\n",
            "and the devil hath power T’assume a pleasing shape, yea, and perhaps\n",
            "Out of my weakness and my melancholy, As he is very potent with such\n",
            "spirits, Abuses me to damn me. I’ll have grounds More relative than\n",
            "this. The play’s the thing Wherein I’ll catch the conscience of the\n",
            "King.\n"
          ],
          "name": "stdout"
        }
      ]
    },
    {
      "cell_type": "code",
      "metadata": {
        "id": "Pbv0rIKHULUZ",
        "colab_type": "code",
        "outputId": "08dcb1d4-fa0d-4da4-92a4-acab69535b38",
        "colab": {
          "base_uri": "https://localhost:8080/",
          "height": 299
        }
      },
      "source": [
        "c_polarity.sort()\n",
        "print(\"The average polarity of \"+play_character+\"'s speech is \" + str(sum(c_polarity)/len(c_polarity)))\n",
        "print(\"The median polarity of \"+play_character+\"'s speech is \" + str(c_polarity[len(c_polarity)//2]))\n",
        "sns.boxplot(y=c_polarity)"
      ],
      "execution_count": 4,
      "outputs": [
        {
          "output_type": "stream",
          "text": [
            "The average polarity of Hamlet's speech is 0.10997860590391342\n",
            "The median polarity of Hamlet's speech is 0.0\n"
          ],
          "name": "stdout"
        },
        {
          "output_type": "execute_result",
          "data": {
            "text/plain": [
              "<matplotlib.axes._subplots.AxesSubplot at 0x7fefcd5433c8>"
            ]
          },
          "metadata": {
            "tags": []
          },
          "execution_count": 4
        },
        {
          "output_type": "display_data",
          "data": {
            "image/png": "[encoded data removed]",
            "text/plain": [
              "<Figure size 432x288 with 1 Axes>"
            ]
          },
          "metadata": {
            "tags": [],
            "needs_background": "light"
          }
        }
      ]
    },
    {
      "cell_type": "code",
      "metadata": {
        "id": "UhDtBieKZqvV",
        "colab_type": "code",
        "outputId": "c7045a61-d2aa-41bd-e479-644f4710be70",
        "colab": {
          "base_uri": "https://localhost:8080/",
          "height": 299
        }
      },
      "source": [
        "c_subjectivity.sort()\n",
        "print(\"The average subjectivity of \"+play_character+\"'s speech is \" + str(sum(c_subjectivity)/len(c_subjectivity)))\n",
        "print(\"The median subjectivity of \"+play_character+\"'s speech is \" + str(c_subjectivity[len(c_subjectivity)//2]))\n",
        "sns.boxplot(y=c_subjectivity, palette=[\"g\"])"
      ],
      "execution_count": 5,
      "outputs": [
        {
          "output_type": "stream",
          "text": [
            "The average subjectivity of Hamlet's speech is 0.316445941324006\n",
            "The median subjectivity of Hamlet's speech is 0.2916666666666667\n"
          ],
          "name": "stdout"
        },
        {
          "output_type": "execute_result",
          "data": {
            "text/plain": [
              "<matplotlib.axes._subplots.AxesSubplot at 0x7fefcd5505c0>"
            ]
          },
          "metadata": {
            "tags": []
          },
          "execution_count": 5
        },
        {
          "output_type": "display_data",
          "data": {
            "image/png": "[encoded data removed]",
            "text/plain": [
              "<Figure size 432x288 with 1 Axes>"
            ]
          },
          "metadata": {
            "tags": [],
            "needs_background": "light"
          }
        }
      ]
    },
    {
      "cell_type": "code",
      "metadata": {
        "id": "HBVvjU82O0IQ",
        "colab_type": "code",
        "outputId": "b69e72ac-3d00-4962-dfa5-6fc939151db3",
        "colab": {
          "base_uri": "https://localhost:8080/",
          "height": 221
        }
      },
      "source": [
        "start_words =  re.findall('([A-Z][a-z]{0,})', c_lines)\n",
        "print(\"There are \"+str(len(set(start_words)))+\" different start words.\")\n",
        "common_start_words = set([x for x in start_words if start_words.count(x) > 1])\n",
        "print(str(len(common_start_words))+\" start words occur more than once.\")\n",
        "list(common_start_words)[:10]"
      ],
      "execution_count": 6,
      "outputs": [
        {
          "output_type": "stream",
          "text": [
            "There are 382 different start words.\n",
            "162 start words occur more than once.\n"
          ],
          "name": "stdout"
        },
        {
          "output_type": "execute_result",
          "data": {
            "text/plain": [
              "['I',\n",
              " 'Follow',\n",
              " 'Elsinore',\n",
              " 'Priam',\n",
              " 'Being',\n",
              " 'Gonzago',\n",
              " 'Upon',\n",
              " 'From',\n",
              " 'Shall',\n",
              " 'Make']"
            ]
          },
          "metadata": {
            "tags": []
          },
          "execution_count": 6
        }
      ]
    },
    {
      "cell_type": "code",
      "metadata": {
        "id": "NeX0iLfi_ZA4",
        "colab_type": "code",
        "colab": {}
      },
      "source": [
        "def ngrams_for_sequence(n, seq):\n",
        "    return [tuple(seq[i:i+n]) for i in range(len(seq)-n+1)]"
      ],
      "execution_count": 0,
      "outputs": []
    },
    {
      "cell_type": "code",
      "metadata": {
        "id": "nqON4218_w0A",
        "colab_type": "code",
        "outputId": "8108db4a-12c9-4ef9-cccd-83e846fa0961",
        "colab": {
          "base_uri": "https://localhost:8080/",
          "height": 187
        }
      },
      "source": [
        "hamlet_word_5grams = ngrams_for_sequence(5, open(\"sample_data/hamlet.txt\").read().split())\n",
        "hamlet_word_5grams[:10]"
      ],
      "execution_count": 8,
      "outputs": [
        {
          "output_type": "execute_result",
          "data": {
            "text/plain": [
              "[('SCENE', 'I.', 'Elsinore.', 'A', 'platform'),\n",
              " ('I.', 'Elsinore.', 'A', 'platform', 'before'),\n",
              " ('Elsinore.', 'A', 'platform', 'before', 'the'),\n",
              " ('A', 'platform', 'before', 'the', 'Castle.'),\n",
              " ('platform', 'before', 'the', 'Castle.', 'Enter'),\n",
              " ('before', 'the', 'Castle.', 'Enter', 'Francisco'),\n",
              " ('the', 'Castle.', 'Enter', 'Francisco', 'and'),\n",
              " ('Castle.', 'Enter', 'Francisco', 'and', 'Barnardo,'),\n",
              " ('Enter', 'Francisco', 'and', 'Barnardo,', 'two'),\n",
              " ('Francisco', 'and', 'Barnardo,', 'two', 'sentinels.')]"
            ]
          },
          "metadata": {
            "tags": []
          },
          "execution_count": 8
        }
      ]
    },
    {
      "cell_type": "code",
      "metadata": {
        "id": "CeZNhnj3AHU7",
        "colab_type": "code",
        "colab": {}
      },
      "source": [
        "def add_to_model(model, n, seq):\n",
        "    # make a copy of seq and append None to the end\n",
        "    seq = list(seq[:]) + [None]\n",
        "    for i in range(len(seq)-n):\n",
        "        # tuple because we're using it as a dict key!\n",
        "        gram = tuple(seq[i:i+n])\n",
        "        next_item = seq[i+n]            \n",
        "        if gram not in model:\n",
        "            model[gram] = []\n",
        "        model[gram].append(next_item)\n",
        "\n",
        "def markov_model(n, seq):\n",
        "    model = {}\n",
        "    add_to_model(model, n, seq)\n",
        "    return model"
      ],
      "execution_count": 0,
      "outputs": []
    },
    {
      "cell_type": "code",
      "metadata": {
        "id": "BrWhc6LSAKMc",
        "colab_type": "code",
        "colab": {}
      },
      "source": [
        "c_markov_model = markov_model(2, c_lines.split())"
      ],
      "execution_count": 0,
      "outputs": []
    },
    {
      "cell_type": "code",
      "metadata": {
        "id": "TOamotPtAxZd",
        "colab_type": "code",
        "colab": {}
      },
      "source": [
        "import random\n",
        "def gen_from_model(n, model, start=None, max_gen=100):\n",
        "    if start is None:\n",
        "        start = random.choice(list([i for i in model.keys() if i[0] in common_start_words])) #choose a common start phrases\n",
        "    output = list(start)\n",
        "    for i in range(max_gen):\n",
        "        start = tuple(output[-n:])\n",
        "        next_item = random.choice(model[start])\n",
        "        if next_item is None:\n",
        "            break\n",
        "        else:\n",
        "            output.append(next_item)\n",
        "    return output"
      ],
      "execution_count": 0,
      "outputs": []
    },
    {
      "cell_type": "code",
      "metadata": {
        "id": "Vm_dSV3cVNbb",
        "colab_type": "code",
        "colab": {}
      },
      "source": [
        "def imitate_character():\n",
        "  generated_words = gen_from_model(2, c_markov_model, None, 18) #bigram approach, with a total of 18 words max\n",
        "  strange = ' '.join(generated_words)\n",
        "  #find the last punctuation in the text\n",
        "  period = strange.rfind('.')\n",
        "  exclamation = strange.rfind('!')\n",
        "  question = strange.rfind('?')\n",
        "  end = max(period, max(exclamation,question))\n",
        "  return strange[:end+1] #return all the complete sentences"
      ],
      "execution_count": 0,
      "outputs": []
    },
    {
      "cell_type": "code",
      "metadata": {
        "id": "l7-jaw4BSXBL",
        "colab_type": "code",
        "outputId": "6a79caab-fed8-43ef-d603-22531b7b0c47",
        "colab": {
          "base_uri": "https://localhost:8080/",
          "height": 343
        }
      },
      "source": [
        "CONSUMER_KEY = 'PLACE YOUR OWN CONSUMER KEY HERE'\n",
        "CONSUMER_SECRET = 'PLACE YOUR OWN CONSUMER SECRET HERE'\n",
        "ACCESS_KEY = 'PLACE YOUR OWN ACCESS KEY HERE'\n",
        "ACCESS_SECRET = 'PLACE YOUR OWN ACCESS SECRET HERE'\n",
        "auth = tweepy.OAuthHandler(CONSUMER_KEY, CONSUMER_SECRET)\n",
        "auth.set_access_token(ACCESS_KEY, ACCESS_SECRET)\n",
        "api = tweepy.API(auth)\n",
        "i = 1\n",
        "possible_tweets=[]\n",
        "while i<=5: #give the user 5 options to tweet out\n",
        "  postthis = imitate_character()\n",
        "  if len(postthis)>0 and len(postthis) <= 140:\n",
        "    print(str(i)+\": \"+postthis)\n",
        "    print(TextBlob(postthis).sentiment)\n",
        "    print(\"\")\n",
        "    possible_tweets.append(postthis)\n",
        "    i+=1\n",
        "print(\"Type 6 to cancel\")\n",
        "print(\"\")\n",
        "choice = int(input(\"Choose one of these to post(#): \") )\n",
        "if choice>0 and choice<6: #tweet if they choose a valid number\n",
        "  api.update_status(status=possible_tweets[choice-1])"
      ],
      "execution_count": 13,
      "outputs": [
        {
          "output_type": "stream",
          "text": [
            "1: If he but blench, I know not. is it the King? A bloody deed.\n",
            "Sentiment(polarity=-0.8, subjectivity=0.9)\n",
            "\n",
            "2: To give the world away.\n",
            "Sentiment(polarity=0.0, subjectivity=0.0)\n",
            "\n",
            "3: The kettle-drum and trumpet thus bray out The triumph of his soul, When he lay couched in the hall.\n",
            "Sentiment(polarity=0.0, subjectivity=0.0)\n",
            "\n",
            "4: In this distracted globe. Remember thee? Ay, thou poor ghost, while memory holds a seat In this distracted globe.\n",
            "Sentiment(polarity=-0.4, subjectivity=0.6)\n",
            "\n",
            "5: And my imaginations are as foul As Vulcan’s stithy.\n",
            "Sentiment(polarity=0.0, subjectivity=0.0)\n",
            "\n",
            "Type 6 to cancel\n",
            "\n",
            "Choose one of these to post(#): 6\n"
          ],
          "name": "stdout"
        }
      ]
    }
  ]
}