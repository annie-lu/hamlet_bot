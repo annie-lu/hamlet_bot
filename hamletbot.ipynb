{
  "nbformat": 4,
  "nbformat_minor": 0,
  "metadata": {
    "colab": {
      "name": "hamletbot",
      "provenance": [],
      "collapsed_sections": [],
      "include_colab_link": true
    },
    "kernelspec": {
      "name": "python3",
      "display_name": "Python 3"
    }
  },
  "cells": [
    {
      "cell_type": "markdown",
      "metadata": {
        "id": "view-in-github",
        "colab_type": "text"
      },
      "source": [
        "<a href=\"https://colab.research.google.com/github/annie-lu/hamlet_bot/blob/master/hamletbot.ipynb\" target=\"_parent\"><img src=\"https://colab.research.google.com/assets/colab-badge.svg\" alt=\"Open In Colab\"/></a>"
      ]
    },
    {
      "cell_type": "code",
      "metadata": {
        "id": "4mz5b4sJZJuu",
        "colab_type": "code",
        "colab": {}
      },
      "source": [
        "from textblob import TextBlob\n",
        "import re\n",
        "import random, time, tweepy\n",
        "import seaborn as sns\n",
        "import numpy as np\n",
        "import pandas\n",
        "sns.set(style=\"whitegrid\")"
      ],
      "execution_count": 0,
      "outputs": []
    },
    {
      "cell_type": "code",
      "metadata": {
        "id": "afY4KNEbeR63",
        "colab_type": "code",
        "outputId": "4fc9437f-ca18-4c4f-c05e-8e8a0b78bc71",
        "colab": {
          "base_uri": "https://localhost:8080/",
          "height": 85
        }
      },
      "source": [
        "text = \"sample_data/hamlet.txt\"\n",
        "print(\"Hamlet Character List: HAMLET, CLAUDIUS, GHOST, GERTRUDE, KING, QUEEN, \\nPOLONIUS, LAERTES, OPHELIA, HORATIO, FORTINBRAS, VOLTEMAND, CORNELIUS, \\nROSENCRANTZ, GUILDENSTERN, MARCELLUS, BARNARDO, FRANCISCO, OSRIC, REYNALDO\")\n",
        "play_character = input(\"Choose a Hamlet Character: \")\n",
        "character_length = len(play_character)+2"
      ],
      "execution_count": 5,
      "outputs": [
        {
          "output_type": "stream",
          "text": [
            "Hamlet Character List: HAMLET, CLAUDIUS, GHOST, GERTRUDE, KING, QUEEN, \n",
            "POLONIUS, LAERTES, OPHELIA, HORATIO, FORTINBRAS, VOLTEMAND, CORNELIUS, \n",
            "ROSENCRANTZ, GUILDENSTERN, MARCELLUS, BARNARDO, FRANCISCO, OSRIC, REYNALDO\n",
            "Choose a Hamlet Character: Hamlet\n"
          ],
          "name": "stdout"
        }
      ]
    },
    {
      "cell_type": "code",
      "metadata": {
        "id": "2mo9p-WJ-aAN",
        "colab_type": "code",
        "colab": {}
      },
      "source": [
        "text = open(text).read() #entire text\n",
        "lines = text.split('\\n\\n') #split text by separate speech\n",
        "c_lines = \"\"\n",
        "c_speech = pandas.DataFrame(columns=['Speech', 'Length','Polarity', 'Subjectivity'])\n",
        "for i in lines: #going through each speech\n",
        "  if i.find(play_character.upper()+\".\")==0:\n",
        "    speech = i[character_length:]\n",
        "    c_speech = c_speech.append({'Speech': speech, 'Length': len(speech.strip().split()), 'Polarity': TextBlob(speech).sentiment.polarity,'Subjectivity':TextBlob(speech).sentiment.subjectivity}, ignore_index=True)\n",
        "\n",
        "words = text.split()\n",
        "c_lines = c_speech.Speech.values"
      ],
      "execution_count": 0,
      "outputs": []
    },
    {
      "cell_type": "code",
      "metadata": {
        "id": "1LvFVEhZuauf",
        "colab_type": "code",
        "outputId": "789bf7d9-aedd-4226-987a-b5b50cb31cde",
        "colab": {
          "base_uri": "https://localhost:8080/",
          "height": 921
        }
      },
      "source": [
        "#distant reading analysis\n",
        "print(\"Within the play, \" + play_character + \" speaks \" + str(len(c_speech.index)) + \" times.\")\n",
        "print(\"In total, \" + play_character + \" speaks \"+ str(c_speech['Length'].sum())+\" words.\")\n",
        "print(\"On average, \" + play_character + \" will speak for \"+ str(c_speech['Length'].sum()//len(c_speech.index)) + \" words without stopping.\")\n",
        "print(\"\")\n",
        "print( play_character + \"'s shortest speech is \"+str(c_speech.Length.min())+\" words long\")\n",
        "print(c_speech[c_speech.Length.min() == c_speech.Length])\n",
        "print(\"\")\n",
        "max_speech = c_speech[c_speech.Length.max() == c_speech.Length]\n",
        "print(play_character + \"'s longest speech is \"+str(c_speech.Length.max())+\" words long\"+\" with a polarity of \"+str(max_speech.Polarity.values[0])+\" and subjectivity of \"+str(max_speech.Subjectivity.values[0])+\".\")\n",
        "print(str(c_speech[c_speech.Length.max() == c_speech.Length].Speech.values[0]))"
      ],
      "execution_count": 7,
      "outputs": [
        {
          "output_type": "stream",
          "text": [
            "Within the play, Hamlet speaks 358 times.\n",
            "In total, Hamlet speaks 10788 words.\n",
            "On average, Hamlet will speak for 30 words without stopping.\n",
            "\n",
            "Hamlet's shortest speech is 1 words long\n",
            "        Speech Length  Polarity  Subjectivity\n",
            "47       What?      1       0.0           0.0\n",
            "49     Murder!      1       0.0           0.0\n",
            "160   Nothing.      1       0.0           0.0\n",
            "252      Good.      1       0.7           0.6\n",
            "278       Why?      1       0.0           0.0\n",
            "286      This?      1       0.0           0.0\n",
            "344       One.      1       0.0           0.0\n",
            "345  Judgment.      1       0.0           0.0\n",
            "\n",
            "Hamlet's longest speech is 459 words long with a polarity of 0.08288261217948717 and subjectivity of 0.5657692307692308.\n",
            "Ay, so, God b’ wi’ ye. Now I am alone. O what a rogue and\n",
            "peasant slave am I! Is it not monstrous that this player here, But in a\n",
            "fiction, in a dream of passion, Could force his soul so to his own\n",
            "conceit That from her working all his visage wan’d; Tears in his eyes,\n",
            "distraction in’s aspect, A broken voice, and his whole function suiting\n",
            "With forms to his conceit? And all for nothing! For Hecuba? What’s\n",
            "Hecuba to him, or he to Hecuba, That he should weep for her? What would\n",
            "he do, Had he the motive and the cue for passion That I have? He would\n",
            "drown the stage with tears And cleave the general ear with horrid\n",
            "speech; Make mad the guilty, and appal the free, Confound the ignorant,\n",
            "and amaze indeed, The very faculties of eyes and ears. Yet I, A dull\n",
            "and muddy-mettled rascal, peak Like John-a-dreams, unpregnant of my\n",
            "cause, And can say nothing. No, not for a king Upon whose property and\n",
            "most dear life A damn’d defeat was made. Am I a coward? Who calls me\n",
            "villain, breaks my pate across? Plucks off my beard and blows it in my\n",
            "face? Tweaks me by the nose, gives me the lie i’ th’ throat As deep as\n",
            "to the lungs? Who does me this? Ha! ’Swounds, I should take it: for it\n",
            "cannot be But I am pigeon-liver’d, and lack gall To make oppression\n",
            "bitter, or ere this I should have fatted all the region kites With this\n",
            "slave’s offal. Bloody, bawdy villain! Remorseless, treacherous,\n",
            "lecherous, kindless villain! Oh vengeance! Why, what an ass am I! This\n",
            "is most brave, That I, the son of a dear father murder’d, Prompted to\n",
            "my revenge by heaven and hell, Must, like a whore, unpack my heart with\n",
            "words And fall a-cursing like a very drab, A scullion! Fie upon’t! Foh!\n",
            "About, my brain! I have heard That guilty creatures sitting at a play,\n",
            "Have by the very cunning of the scene, Been struck so to the soul that\n",
            "presently They have proclaim’d their malefactions. For murder, though\n",
            "it have no tongue, will speak With most miraculous organ. I’ll have\n",
            "these players Play something like the murder of my father Before mine\n",
            "uncle. I’ll observe his looks; I’ll tent him to the quick. If he but\n",
            "blench, I know my course. The spirit that I have seen May be the devil,\n",
            "and the devil hath power T’assume a pleasing shape, yea, and perhaps\n",
            "Out of my weakness and my melancholy, As he is very potent with such\n",
            "spirits, Abuses me to damn me. I’ll have grounds More relative than\n",
            "this. The play’s the thing Wherein I’ll catch the conscience of the\n",
            "King.\n"
          ],
          "name": "stdout"
        }
      ]
    },
    {
      "cell_type": "code",
      "metadata": {
        "id": "Pbv0rIKHULUZ",
        "colab_type": "code",
        "outputId": "cedf162a-8992-495d-ce04-5824d5e41b63",
        "colab": {
          "base_uri": "https://localhost:8080/",
          "height": 282
        }
      },
      "source": [
        "print(\"The average polarity of \"+play_character+\"'s speech is \" + str(np.mean(c_speech.Polarity)))\n",
        "print(\"The median polarity of \"+play_character+\"'s speech is \" + str(np.median(c_speech.Polarity)))\n",
        "sns.boxplot(y=c_speech.Polarity)\n",
        "\n",
        "positive_polarity = (c_speech[c_speech.Polarity>0.15].Speech.values).tolist()\n",
        "no_polarity = (c_speech[abs(c_speech.Polarity) <= 0.15].Speech.values).tolist()\n",
        "negative_polarity  = (c_speech[c_speech.Polarity<-0.15].Speech.values).tolist()"
      ],
      "execution_count": 8,
      "outputs": [
        {
          "output_type": "stream",
          "text": [
            "The average polarity of Hamlet's speech is 0.10997860590391342\n",
            "The median polarity of Hamlet's speech is 0.0\n"
          ],
          "name": "stdout"
        },
        {
          "output_type": "display_data",
          "data": {
            "image/png": "[encoded data removed]",
            "text/plain": [
              "<Figure size 432x288 with 1 Axes>"
            ]
          },
          "metadata": {
            "tags": []
          }
        }
      ]
    },
    {
      "cell_type": "code",
      "metadata": {
        "id": "UhDtBieKZqvV",
        "colab_type": "code",
        "outputId": "e12262e9-d0b8-442c-f1e2-64cb515ae80c",
        "colab": {
          "base_uri": "https://localhost:8080/",
          "height": 282
        }
      },
      "source": [
        "print(\"The average subjectivity of \"+play_character+\"'s speech is \" + str(np.mean(c_speech.Subjectivity)))\n",
        "print(\"The median subjectivity of \"+play_character+\"'s speech is \" + str(np.average(c_speech.Subjectivity)))\n",
        "sns.boxplot(y=c_speech.Subjectivity, palette=[\"g\"])\n",
        "\n",
        "no_subjectivity = (c_speech[c_speech.Subjectivity==0].Speech.values).tolist()\n",
        "medium_subjectivity = (c_speech[abs(0.2-c_speech.Subjectivity) < 0.2].Speech.values).tolist()\n",
        "high_subjectivity = (c_speech[c_speech.Subjectivity>=0.4].Speech.values).tolist()"
      ],
      "execution_count": 9,
      "outputs": [
        {
          "output_type": "stream",
          "text": [
            "The average subjectivity of Hamlet's speech is 0.3164459413240059\n",
            "The median subjectivity of Hamlet's speech is 0.3164459413240057\n"
          ],
          "name": "stdout"
        },
        {
          "output_type": "display_data",
          "data": {
            "image/png": "[encoded data removed]",
            "text/plain": [
              "<Figure size 432x288 with 1 Axes>"
            ]
          },
          "metadata": {
            "tags": []
          }
        }
      ]
    },
    {
      "cell_type": "code",
      "metadata": {
        "id": "HBVvjU82O0IQ",
        "colab_type": "code",
        "outputId": "9df47484-864e-4b53-b1ad-213e926dfe26",
        "colab": {
          "base_uri": "https://localhost:8080/",
          "height": 221
        }
      },
      "source": [
        "start_words =  re.findall('([A-Z][a-z]{0,})', \"\".join(c_lines))\n",
        "print(\"There are \"+str(len(set(start_words)))+\" different start words.\")\n",
        "common_start_words = set([x for x in start_words if start_words.count(x) > 1])\n",
        "print(str(len(common_start_words))+\" start words occur more than once.\")\n",
        "list(common_start_words)[:10]"
      ],
      "execution_count": 10,
      "outputs": [
        {
          "output_type": "stream",
          "text": [
            "There are 382 different start words.\n",
            "162 start words occur more than once.\n"
          ],
          "name": "stdout"
        },
        {
          "output_type": "execute_result",
          "data": {
            "text/plain": [
              "['There',\n",
              " 'Sblood',\n",
              " 'One',\n",
              " 'Hyperion',\n",
              " 'Into',\n",
              " 'Hold',\n",
              " 'Follow',\n",
              " 'Which',\n",
              " 'Am',\n",
              " 'By']"
            ]
          },
          "metadata": {
            "tags": []
          },
          "execution_count": 10
        }
      ]
    },
    {
      "cell_type": "code",
      "metadata": {
        "id": "CeZNhnj3AHU7",
        "colab_type": "code",
        "colab": {}
      },
      "source": [
        "def add_to_model(model, n, seq):\n",
        "    # make a copy of seq and append None to the end\n",
        "    seq = list(seq[:]) + [None]\n",
        "    for i in range(len(seq)-n):\n",
        "        # tuple because we're using it as a dict key!\n",
        "        gram = tuple(seq[i:i+n])\n",
        "        next_item = seq[i+n]            \n",
        "        if gram not in model:\n",
        "            model[gram] = []\n",
        "        model[gram].append(next_item)\n",
        "\n",
        "def markov_model(n, seq):\n",
        "    model = {}\n",
        "    add_to_model(model, n, seq)\n",
        "    return model"
      ],
      "execution_count": 0,
      "outputs": []
    },
    {
      "cell_type": "code",
      "metadata": {
        "id": "BrWhc6LSAKMc",
        "colab_type": "code",
        "outputId": "b48bf0b0-0871-4250-ec2d-d5eee198dd29",
        "colab": {
          "base_uri": "https://localhost:8080/",
          "height": 238
        }
      },
      "source": [
        "subjectivity_choices = {1:c_lines,2:no_subjectivity ,3:medium_subjectivity,4:high_subjectivity}\n",
        "print(\"1: all subjectivity\")\n",
        "print(\"2: no subjectivity\")\n",
        "print(\"3: medium subjectivity\")\n",
        "print(\"4: high subjectivity\")\n",
        "s_choice = int(input(\"Choose subjectivity of text: \") )\n",
        "\n",
        "print(\"\")\n",
        "\n",
        "polarity_choices = {1:c_lines, 2:no_polarity, 3:positive_polarity, 4:negative_polarity}\n",
        "print(\"1: all polarity\")\n",
        "print(\"2: no polarity\")\n",
        "print(\"3: positive polarity\")\n",
        "print(\"4: negative polarity\")\n",
        "p_choice = int(input(\"Choose polarity of text: \") )\n",
        "\n",
        "chosen_lines = list(set(subjectivity_choices[s_choice]).intersection(polarity_choices[p_choice]))\n",
        "\n",
        "print(\"\")\n",
        "print(\"You have chosen \"+ str(len(chosen_lines))+ \" lines.\")\n",
        "\n",
        "chosen_lines=\" \".join(chosen_lines)\n",
        "c_markov_model = markov_model(2, chosen_lines.split())"
      ],
      "execution_count": 12,
      "outputs": [
        {
          "output_type": "stream",
          "text": [
            "1: all subjectivity\n",
            "2: no subjectivity\n",
            "3: medium subjectivity\n",
            "4: high subjectivity\n",
            "Choose subjectivity of text: 1\n",
            "\n",
            "1: all polarity\n",
            "2: no polarity\n",
            "3: positive polarity\n",
            "4: negative polarity\n",
            "Choose polarity of text: 1\n",
            "\n",
            "You have chosen 358 lines.\n"
          ],
          "name": "stdout"
        }
      ]
    },
    {
      "cell_type": "code",
      "metadata": {
        "id": "TOamotPtAxZd",
        "colab_type": "code",
        "colab": {}
      },
      "source": [
        "import random\n",
        "def gen_from_model(n, model, start=None, max_gen=100):\n",
        "    if start is None:\n",
        "        start = random.choice(list([i for i in model.keys() if i[0] in common_start_words])) #choose a common start phrases\n",
        "    output = list(start)\n",
        "    for i in range(max_gen):\n",
        "        start = tuple(output[-n:])\n",
        "        next_item = random.choice(model[start])\n",
        "        if next_item is None:\n",
        "            break\n",
        "        else:\n",
        "            output.append(next_item)\n",
        "    return output"
      ],
      "execution_count": 0,
      "outputs": []
    },
    {
      "cell_type": "code",
      "metadata": {
        "id": "Vm_dSV3cVNbb",
        "colab_type": "code",
        "colab": {}
      },
      "source": [
        "def imitate_character():\n",
        "  generated_words = gen_from_model(2, c_markov_model, None, 18) #bigram approach, with a total of 18 words max\n",
        "  strange = ' '.join(generated_words)\n",
        "  #find the last punctuation in the text\n",
        "  period = strange.rfind('.')\n",
        "  exclamation = strange.rfind('!')\n",
        "  question = strange.rfind('?')\n",
        "  s_bracket = strange.rfind(']')\n",
        "  end = max(period, max(max(exclamation,question),s_bracket))\n",
        "  return strange[:end+1] #return all the complete sentences"
      ],
      "execution_count": 0,
      "outputs": []
    },
    {
      "cell_type": "code",
      "metadata": {
        "id": "l7-jaw4BSXBL",
        "colab_type": "code",
        "outputId": "b331fc4f-bdc5-4e9e-f46c-e24f7f58e65b",
        "colab": {
          "base_uri": "https://localhost:8080/",
          "height": 343
        }
      },
      "source": [
        "CONSUMER_KEY = 'PLACE YOUR OWN CONSUMER KEY HERE'\n",
        "CONSUMER_SECRET = 'PLACE YOUR OWN CONSUMER SECRET HERE'\n",
        "ACCESS_KEY = 'PLACE YOUR OWN ACCESS KEY HERE'\n",
        "ACCESS_SECRET = 'PLACE YOUR OWN ACCESS SECRET HERE'\n",
        "auth = tweepy.OAuthHandler(CONSUMER_KEY, CONSUMER_SECRET)\n",
        "auth.set_access_token(ACCESS_KEY, ACCESS_SECRET)\n",
        "api = tweepy.API(auth)\n",
        "i = 1\n",
        "possible_tweets=[]\n",
        "while i<=5: #give the user 5 options to tweet out\n",
        "  postthis = imitate_character()\n",
        "  if len(postthis)>0 and len(postthis) <= 140:\n",
        "    print(str(i)+\": \"+postthis)\n",
        "    print(TextBlob(postthis).sentiment)\n",
        "    print(\"\")\n",
        "    possible_tweets.append(postthis)\n",
        "    i+=1\n",
        "print(\"Type 6 to cancel\")\n",
        "print(\"\")\n",
        "choice = int(input(\"Choose one of these to post(#): \") )\n",
        "if choice>0 and choice<6: #tweet if they choose a valid number\n",
        "  api.update_status(status=possible_tweets[choice-1])"
      ],
      "execution_count": 27,
      "outputs": [
        {
          "output_type": "stream",
          "text": [
            "1: Get thee to a bawd than the mutinies in the eye, Nor the soles of her favours?\n",
            "Sentiment(polarity=0.0, subjectivity=0.0)\n",
            "\n",
            "2: My father, in his rage, Or in th’incestuous pleasure of his grief did put me Into a tow’ring passion.\n",
            "Sentiment(polarity=-0.8, subjectivity=0.2)\n",
            "\n",
            "3: The cat will mew, and dog will have his fine pate full of fine dirt?\n",
            "Sentiment(polarity=0.39444444444444443, subjectivity=0.5166666666666667)\n",
            "\n",
            "4: French swords, their assigns, and three liberal conceited carriages: that’s the French bet against the Danish.\n",
            "Sentiment(polarity=0.0, subjectivity=0.0)\n",
            "\n",
            "5: Being a thing immortal as itself? It waves me still. Go on, I’ll follow thee.\n",
            "Sentiment(polarity=0.0, subjectivity=0.0)\n",
            "\n",
            "Type 6 to cancel\n",
            "\n",
            "Choose one of these to post(#): 6\n"
          ],
          "name": "stdout"
        }
      ]
    }
  ]
}