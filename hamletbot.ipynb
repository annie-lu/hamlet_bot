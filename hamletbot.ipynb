{
  "nbformat": 4,
  "nbformat_minor": 0,
  "metadata": {
    "colab": {
      "name": "hamletbot",
      "provenance": [],
      "collapsed_sections": []
    },
    "kernelspec": {
      "name": "python3",
      "display_name": "Python 3"
    }
  },
  "cells": [
    {
      "cell_type": "code",
      "metadata": {
        "id": "4mz5b4sJZJuu",
        "colab_type": "code",
        "colab": {}
      },
      "source": [
        "from textblob import TextBlob\n",
        "import re\n",
        "import random, time, tweepy\n",
        "import seaborn as sns\n",
        "sns.set(style=\"whitegrid\")"
      ],
      "execution_count": 0,
      "outputs": []
    },
    {
      "cell_type": "code",
      "metadata": {
        "id": "afY4KNEbeR63",
        "colab_type": "code",
        "colab": {
          "base_uri": "https://localhost:8080/",
          "height": 85
        },
        "outputId": "6abfe26c-7267-4186-97d4-d271c37ac031"
      },
      "source": [
        "text = \"sample_data/hamlet.txt\"\n",
        "print(\"Hamlet Character List: HAMLET, CLAUDIUS, GHOST, GERTRUDE, KING, QUEEN, \\nPOLONIUS, LAERTES, OPHELIA, HORATIO, FORTINBRAS, VOLTEMAND, CORNELIUS, \\nROSENCRANTZ, GUILDENSTERN, MARCELLUS, BARNARDO, FRANCISCO, OSRIC, REYNALDO\")\n",
        "play_character = input(\"Choose a Hamlet Character: \")"
      ],
      "execution_count": 119,
      "outputs": [
        {
          "output_type": "stream",
          "text": [
            "Hamlet Character List: HAMLET, CLAUDIUS, GHOST, GERTRUDE, KING, QUEEN, \n",
            "POLONIUS, LAERTES, OPHELIA, HORATIO, FORTINBRAS, VOLTEMAND, CORNELIUS, \n",
            "ROSENCRANTZ, GUILDENSTERN, MARCELLUS, BARNARDO, FRANCISCO, OSRIC, REYNALDO\n",
            "Choose a Hamlet Character: Ophelia\n"
          ],
          "name": "stdout"
        }
      ]
    },
    {
      "cell_type": "code",
      "metadata": {
        "id": "2mo9p-WJ-aAN",
        "colab_type": "code",
        "outputId": "41766caa-24cb-4c0a-b78e-7185322c6750",
        "colab": {
          "base_uri": "https://localhost:8080/",
          "height": 306
        }
      },
      "source": [
        "text = open(text).read() #entire text\n",
        "lines = text.split('\\n\\n') #split text by separate speech\n",
        "c_lines = \"\" #specific character lines\n",
        "\n",
        "#sentiment/speech analysis\n",
        "c_polarity = [] \n",
        "c_subjectivity = []\n",
        "count=0 #number of times the character speaks\n",
        "min_speech = None\n",
        "max_speech = None\n",
        "\n",
        "for i in lines: #going through each speech\n",
        "  if i.find(play_character.upper()+\".\")==0:\n",
        "    if min_speech is None:\n",
        "      min_speech = i\n",
        "      max_speech = i\n",
        "    elif len(i)<len(min_speech):\n",
        "      min_speech = i\n",
        "    elif len(i)>len(max_speech):\n",
        "      max_speech = i\n",
        "    c_polarity.append(TextBlob(i[7:]).sentiment.polarity)\n",
        "    c_subjectivity.append(TextBlob(i[7:]).sentiment.subjectivity)\n",
        "    c_lines+=i[7:]\n",
        "    count+=1\n",
        "words = text.split()\n",
        "\n",
        "#distant reading analysis\n",
        "print(\"Within the play, \" + play_character + \" speaks \" + str(count) + \" times.\")\n",
        "print(\"In total, \" + play_character + \" speaks \"+ str(len(c_lines.split()))+\" words.\")\n",
        "print(\"On average, \" + play_character + \" will speak for \"+ str(len(c_lines.split())//count) + \" words without stopping.\")\n",
        "print(\"\")\n",
        "print( play_character + \"'s shortest speech is \"+str(len(min_speech.split())-1)+\" words long\")\n",
        "print(min_speech)\n",
        "print(\"\")\n",
        "print(play_character + \"'s longest speech is \"+str(len(max_speech.split())-1)+\" words long\")\n",
        "print(max_speech)"
      ],
      "execution_count": 120,
      "outputs": [
        {
          "output_type": "stream",
          "text": [
            "Within the play, Ophelia speaks 58 times.\n",
            "In total, Ophelia speaks 1088 words.\n",
            "On average, Ophelia will speak for 18 words without stopping.\n",
            "\n",
            "Ophelia's shortest speech is 2 words long\n",
            "OPHELIA. My lord?\n",
            "\n",
            "Ophelia's longest speech is 124 words long\n",
            "OPHELIA. He took me by the wrist and held me hard; Then goes he to the\n",
            "length of all his arm; And with his other hand thus o’er his brow, He\n",
            "falls to such perusal of my face As he would draw it. Long stay’d he\n",
            "so, At last,—a little shaking of mine arm, And thrice his head thus\n",
            "waving up and down, He rais’d a sigh so piteous and profound As it did\n",
            "seem to shatter all his bulk And end his being. That done, he lets me\n",
            "go, And with his head over his shoulder turn’d He seem’d to find his\n",
            "way without his eyes, For out o’ doors he went without their help, And\n",
            "to the last bended their light on me.\n"
          ],
          "name": "stdout"
        }
      ]
    },
    {
      "cell_type": "code",
      "metadata": {
        "id": "Pbv0rIKHULUZ",
        "colab_type": "code",
        "colab": {
          "base_uri": "https://localhost:8080/",
          "height": 302
        },
        "outputId": "acc92776-033d-4541-ff9f-3d742cc56583"
      },
      "source": [
        "c_polarity.sort()\n",
        "print(\"The average polarity of \"+play_character+\"'s speech is \" + str(sum(c_polarity)/len(c_polarity)))\n",
        "print(\"The median polarity of \"+play_character+\"'s speech is \" + str(c_polarity[len(c_polarity)//2]))\n",
        "sns.boxplot(y=c_polarity)"
      ],
      "execution_count": 121,
      "outputs": [
        {
          "output_type": "stream",
          "text": [
            "The average polarity of Ophelia's speech is 0.11352263446885781\n",
            "The median polarity of Ophelia's speech is 0.0\n"
          ],
          "name": "stdout"
        },
        {
          "output_type": "execute_result",
          "data": {
            "text/plain": [
              "<matplotlib.axes._subplots.AxesSubplot at 0x7f98b4e89358>"
            ]
          },
          "metadata": {
            "tags": []
          },
          "execution_count": 121
        },
        {
          "output_type": "display_data",
          "data": {
            "image/png": "[encoded data removed]",
            "text/plain": [
              "<Figure size 432x288 with 1 Axes>"
            ]
          },
          "metadata": {
            "tags": []
          }
        }
      ]
    },
    {
      "cell_type": "code",
      "metadata": {
        "id": "UhDtBieKZqvV",
        "colab_type": "code",
        "colab": {
          "base_uri": "https://localhost:8080/",
          "height": 299
        },
        "outputId": "4f4ff954-fcad-417a-febf-796e8ebd4433"
      },
      "source": [
        "c_subjectivity.sort()\n",
        "print(\"The average subjectivity of \"+play_character+\"'s speech is \" + str(sum(c_subjectivity)/len(c_subjectivity)))\n",
        "print(\"The median subjectivity of \"+play_character+\"'s speech is \" + str(c_subjectivity[len(c_subjectivity)//2]))\n",
        "sns.boxplot(y=c_subjectivity, palette=[\"g\"])"
      ],
      "execution_count": 122,
      "outputs": [
        {
          "output_type": "stream",
          "text": [
            "The average subjectivity of Ophelia's speech is 0.3079938380205211\n",
            "The median subjectivity of Ophelia's speech is 0.3666666666666667\n"
          ],
          "name": "stdout"
        },
        {
          "output_type": "execute_result",
          "data": {
            "text/plain": [
              "<matplotlib.axes._subplots.AxesSubplot at 0x7f98b4e89470>"
            ]
          },
          "metadata": {
            "tags": []
          },
          "execution_count": 122
        },
        {
          "output_type": "display_data",
          "data": {
            "image/png": "[encoded data removed]",
            "text/plain": [
              "<Figure size 432x288 with 1 Axes>"
            ]
          },
          "metadata": {
            "tags": []
          }
        }
      ]
    },
    {
      "cell_type": "code",
      "metadata": {
        "id": "HBVvjU82O0IQ",
        "colab_type": "code",
        "outputId": "343f7143-8ba1-4639-9a33-afc180158de4",
        "colab": {
          "base_uri": "https://localhost:8080/",
          "height": 68
        }
      },
      "source": [
        "start_words =  re.findall('([A-Z][a-z]{0,})', c_lines)\n",
        "print(\"There are \"+str(len(set(start_words)))+\" different start words.\")\n",
        "common_start_words = set([x for x in start_words if start_words.count(x) > 1])\n",
        "print(str(len(common_start_words))+\" start words occur more than once.\")\n",
        "list(common_start_words)[:10]"
      ],
      "execution_count": 131,
      "outputs": [
        {
          "output_type": "stream",
          "text": [
            "There are 83 different start words.\n",
            "35 start words occur more than once.\n"
          ],
          "name": "stdout"
        },
        {
          "output_type": "execute_result",
          "data": {
            "text/plain": [
              "['Sings', 'Do', 'Tis', 'Good', 'You', 'O', 'Ay', 'How', 'The', 'No']"
            ]
          },
          "metadata": {
            "tags": []
          },
          "execution_count": 131
        }
      ]
    },
    {
      "cell_type": "code",
      "metadata": {
        "id": "NeX0iLfi_ZA4",
        "colab_type": "code",
        "colab": {}
      },
      "source": [
        "def ngrams_for_sequence(n, seq):\n",
        "    return [tuple(seq[i:i+n]) for i in range(len(seq)-n+1)]"
      ],
      "execution_count": 0,
      "outputs": []
    },
    {
      "cell_type": "code",
      "metadata": {
        "id": "nqON4218_w0A",
        "colab_type": "code",
        "outputId": "9089f9ea-8a48-46ff-8c1c-6e8879ae5882",
        "colab": {
          "base_uri": "https://localhost:8080/",
          "height": 187
        }
      },
      "source": [
        "hamlet_word_5grams = ngrams_for_sequence(5, open(\"sample_data/hamlet.txt\").read().split())\n",
        "hamlet_word_5grams[:10]"
      ],
      "execution_count": 125,
      "outputs": [
        {
          "output_type": "execute_result",
          "data": {
            "text/plain": [
              "[('SCENE', 'I.', 'Elsinore.', 'A', 'platform'),\n",
              " ('I.', 'Elsinore.', 'A', 'platform', 'before'),\n",
              " ('Elsinore.', 'A', 'platform', 'before', 'the'),\n",
              " ('A', 'platform', 'before', 'the', 'Castle.'),\n",
              " ('platform', 'before', 'the', 'Castle.', 'Enter'),\n",
              " ('before', 'the', 'Castle.', 'Enter', 'Francisco'),\n",
              " ('the', 'Castle.', 'Enter', 'Francisco', 'and'),\n",
              " ('Castle.', 'Enter', 'Francisco', 'and', 'Barnardo,'),\n",
              " ('Enter', 'Francisco', 'and', 'Barnardo,', 'two'),\n",
              " ('Francisco', 'and', 'Barnardo,', 'two', 'sentinels.')]"
            ]
          },
          "metadata": {
            "tags": []
          },
          "execution_count": 125
        }
      ]
    },
    {
      "cell_type": "code",
      "metadata": {
        "id": "CeZNhnj3AHU7",
        "colab_type": "code",
        "colab": {}
      },
      "source": [
        "def add_to_model(model, n, seq):\n",
        "    # make a copy of seq and append None to the end\n",
        "    seq = list(seq[:]) + [None]\n",
        "    for i in range(len(seq)-n):\n",
        "        # tuple because we're using it as a dict key!\n",
        "        gram = tuple(seq[i:i+n])\n",
        "        next_item = seq[i+n]            \n",
        "        if gram not in model:\n",
        "            model[gram] = []\n",
        "        model[gram].append(next_item)\n",
        "\n",
        "def markov_model(n, seq):\n",
        "    model = {}\n",
        "    add_to_model(model, n, seq)\n",
        "    return model"
      ],
      "execution_count": 0,
      "outputs": []
    },
    {
      "cell_type": "code",
      "metadata": {
        "id": "BrWhc6LSAKMc",
        "colab_type": "code",
        "colab": {}
      },
      "source": [
        "c_markov_model = markov_model(2, c_lines.split())"
      ],
      "execution_count": 0,
      "outputs": []
    },
    {
      "cell_type": "code",
      "metadata": {
        "id": "TOamotPtAxZd",
        "colab_type": "code",
        "colab": {}
      },
      "source": [
        "import random\n",
        "def gen_from_model(n, model, start=None, max_gen=100):\n",
        "    if start is None:\n",
        "        start = random.choice(list([i for i in model.keys() if i[0] in common_start_words])) #choose a common start phrases\n",
        "    output = list(start)\n",
        "    for i in range(max_gen):\n",
        "        start = tuple(output[-n:])\n",
        "        next_item = random.choice(model[start])\n",
        "        if next_item is None:\n",
        "            break\n",
        "        else:\n",
        "            output.append(next_item)\n",
        "    return output"
      ],
      "execution_count": 0,
      "outputs": []
    },
    {
      "cell_type": "code",
      "metadata": {
        "id": "Vm_dSV3cVNbb",
        "colab_type": "code",
        "colab": {}
      },
      "source": [
        "def imitate_character():\n",
        "  generated_words = gen_from_model(2, c_markov_model, None, 18) #bigram approach, with a total of 18 words max\n",
        "  strange = ' '.join(generated_words)\n",
        "  #find the last punctuation in the text\n",
        "  period = strange.rfind('.')\n",
        "  exclamation = strange.rfind('!')\n",
        "  question = strange.rfind('?')\n",
        "  end = max(period, max(exclamation,question))\n",
        "  return strange[:end+1] #return all the complete sentences"
      ],
      "execution_count": 0,
      "outputs": []
    },
    {
      "cell_type": "code",
      "metadata": {
        "id": "l7-jaw4BSXBL",
        "colab_type": "code",
        "outputId": "fde4a29f-19d1-4604-ec89-48dd965b67a6",
        "colab": {
          "base_uri": "https://localhost:8080/",
          "height": 837
        }
      },
      "source": [
        "CONSUMER_KEY = 'PLACE YOUR OWN CONSUMER KEY HERE'\n",
        "CONSUMER_SECRET = 'PLACE YOUR OWN CONSUMER SECRET HERE'\n",
        "ACCESS_KEY = 'PLACE YOUR OWN ACCESS KEY HERE'\n",
        "ACCESS_SECRET = 'PLACE YOUR OWN ACCESS SECRET HERE'\n",
        "auth = tweepy.OAuthHandler(CONSUMER_KEY, CONSUMER_SECRET)\n",
        "auth.set_access_token(ACCESS_KEY, ACCESS_SECRET)\n",
        "api = tweepy.API(auth)\n",
        "i = 1\n",
        "possible_tweets=[]\n",
        "while i<=5: #give the user 5 options to tweet out\n",
        "  postthis = imitate_character()\n",
        "  if len(postthis)>0 and len(postthis) <= 140:\n",
        "    print(str(i)+\": \"+postthis)\n",
        "    print(TextBlob(postthis).sentiment)\n",
        "    print(\"\")\n",
        "    possible_tweets.append(postthis)\n",
        "    i+=1\n",
        "print(\"Type 6 to cancel\")\n",
        "print(\"\")\n",
        "choice = int(input(\"Choose one of these to post(#): \") )\n",
        "if choice>0 and choice<6: #tweet if they choose a valid number\n",
        "  api.update_status(status=possible_tweets[choice-1])"
      ],
      "execution_count": 132,
      "outputs": [
        {
          "output_type": "stream",
          "text": [
            "1: The glass of fashion and the mould of form, Th’observ’d of all observers, quite, quite down!\n",
            "Sentiment(polarity=-0.19444444444444448, subjectivity=0.2888888888888889)\n",
            "\n",
            "2: Good my lord, How does your honour for this many a day?. My lord, I have been so affrighted..\n",
            "Sentiment(polarity=0.6, subjectivity=0.55)\n",
            "\n",
            "3: By Gis and by Saint Charity, Alack, and fie for shame!\n",
            "Sentiment(polarity=0.0, subjectivity=0.0)\n",
            "\n",
            "4: What means this, my lord?. You are keen, my lord, With almost all the holy vows of heaven..\n",
            "Sentiment(polarity=0.0, subjectivity=0.0)\n",
            "\n",
            "5: My brother shall know of it. And so I thank you for your good counsel. Come, my coach!\n",
            "Sentiment(polarity=0.875, subjectivity=0.6000000000000001)\n",
            "\n",
            "Type 6 to cancel\n",
            "\n"
          ],
          "name": "stdout"
        },
        {
          "output_type": "error",
          "ename": "KeyboardInterrupt",
          "evalue": "ignored",
          "traceback": [
            "\u001b[0;31m---------------------------------------------------------------------------\u001b[0m",
            "\u001b[0;31mKeyboardInterrupt\u001b[0m                         Traceback (most recent call last)",
            "\u001b[0;32m/usr/local/lib/python3.6/dist-packages/ipykernel/kernelbase.py\u001b[0m in \u001b[0;36m_input_request\u001b[0;34m(self, prompt, ident, parent, password)\u001b[0m\n\u001b[1;32m    728\u001b[0m             \u001b[0;32mtry\u001b[0m\u001b[0;34m:\u001b[0m\u001b[0;34m\u001b[0m\u001b[0;34m\u001b[0m\u001b[0m\n\u001b[0;32m--> 729\u001b[0;31m                 \u001b[0mident\u001b[0m\u001b[0;34m,\u001b[0m \u001b[0mreply\u001b[0m \u001b[0;34m=\u001b[0m \u001b[0mself\u001b[0m\u001b[0;34m.\u001b[0m\u001b[0msession\u001b[0m\u001b[0;34m.\u001b[0m\u001b[0mrecv\u001b[0m\u001b[0;34m(\u001b[0m\u001b[0mself\u001b[0m\u001b[0;34m.\u001b[0m\u001b[0mstdin_socket\u001b[0m\u001b[0;34m,\u001b[0m \u001b[0;36m0\u001b[0m\u001b[0;34m)\u001b[0m\u001b[0;34m\u001b[0m\u001b[0;34m\u001b[0m\u001b[0m\n\u001b[0m\u001b[1;32m    730\u001b[0m             \u001b[0;32mexcept\u001b[0m \u001b[0mException\u001b[0m\u001b[0;34m:\u001b[0m\u001b[0;34m\u001b[0m\u001b[0;34m\u001b[0m\u001b[0m\n",
            "\u001b[0;32m/usr/local/lib/python3.6/dist-packages/jupyter_client/session.py\u001b[0m in \u001b[0;36mrecv\u001b[0;34m(self, socket, mode, content, copy)\u001b[0m\n\u001b[1;32m    802\u001b[0m         \u001b[0;32mtry\u001b[0m\u001b[0;34m:\u001b[0m\u001b[0;34m\u001b[0m\u001b[0;34m\u001b[0m\u001b[0m\n\u001b[0;32m--> 803\u001b[0;31m             \u001b[0mmsg_list\u001b[0m \u001b[0;34m=\u001b[0m \u001b[0msocket\u001b[0m\u001b[0;34m.\u001b[0m\u001b[0mrecv_multipart\u001b[0m\u001b[0;34m(\u001b[0m\u001b[0mmode\u001b[0m\u001b[0;34m,\u001b[0m \u001b[0mcopy\u001b[0m\u001b[0;34m=\u001b[0m\u001b[0mcopy\u001b[0m\u001b[0;34m)\u001b[0m\u001b[0;34m\u001b[0m\u001b[0;34m\u001b[0m\u001b[0m\n\u001b[0m\u001b[1;32m    804\u001b[0m         \u001b[0;32mexcept\u001b[0m \u001b[0mzmq\u001b[0m\u001b[0;34m.\u001b[0m\u001b[0mZMQError\u001b[0m \u001b[0;32mas\u001b[0m \u001b[0me\u001b[0m\u001b[0;34m:\u001b[0m\u001b[0;34m\u001b[0m\u001b[0;34m\u001b[0m\u001b[0m\n",
            "\u001b[0;32m/usr/local/lib/python3.6/dist-packages/zmq/sugar/socket.py\u001b[0m in \u001b[0;36mrecv_multipart\u001b[0;34m(self, flags, copy, track)\u001b[0m\n\u001b[1;32m    474\u001b[0m         \"\"\"\n\u001b[0;32m--> 475\u001b[0;31m         \u001b[0mparts\u001b[0m \u001b[0;34m=\u001b[0m \u001b[0;34m[\u001b[0m\u001b[0mself\u001b[0m\u001b[0;34m.\u001b[0m\u001b[0mrecv\u001b[0m\u001b[0;34m(\u001b[0m\u001b[0mflags\u001b[0m\u001b[0;34m,\u001b[0m \u001b[0mcopy\u001b[0m\u001b[0;34m=\u001b[0m\u001b[0mcopy\u001b[0m\u001b[0;34m,\u001b[0m \u001b[0mtrack\u001b[0m\u001b[0;34m=\u001b[0m\u001b[0mtrack\u001b[0m\u001b[0;34m)\u001b[0m\u001b[0;34m]\u001b[0m\u001b[0;34m\u001b[0m\u001b[0;34m\u001b[0m\u001b[0m\n\u001b[0m\u001b[1;32m    476\u001b[0m         \u001b[0;31m# have first part already, only loop while more to receive\u001b[0m\u001b[0;34m\u001b[0m\u001b[0;34m\u001b[0m\u001b[0;34m\u001b[0m\u001b[0m\n",
            "\u001b[0;32mzmq/backend/cython/socket.pyx\u001b[0m in \u001b[0;36mzmq.backend.cython.socket.Socket.recv\u001b[0;34m()\u001b[0m\n",
            "\u001b[0;32mzmq/backend/cython/socket.pyx\u001b[0m in \u001b[0;36mzmq.backend.cython.socket.Socket.recv\u001b[0;34m()\u001b[0m\n",
            "\u001b[0;32mzmq/backend/cython/socket.pyx\u001b[0m in \u001b[0;36mzmq.backend.cython.socket._recv_copy\u001b[0;34m()\u001b[0m\n",
            "\u001b[0;32m/usr/local/lib/python3.6/dist-packages/zmq/backend/cython/checkrc.pxd\u001b[0m in \u001b[0;36mzmq.backend.cython.checkrc._check_rc\u001b[0;34m()\u001b[0m\n",
            "\u001b[0;31mKeyboardInterrupt\u001b[0m: ",
            "\nDuring handling of the above exception, another exception occurred:\n",
            "\u001b[0;31mKeyboardInterrupt\u001b[0m                         Traceback (most recent call last)",
            "\u001b[0;32m<ipython-input-132-ade860aa6e36>\u001b[0m in \u001b[0;36m<module>\u001b[0;34m()\u001b[0m\n\u001b[1;32m     18\u001b[0m \u001b[0mprint\u001b[0m\u001b[0;34m(\u001b[0m\u001b[0;34m\"Type 6 to cancel\"\u001b[0m\u001b[0;34m)\u001b[0m\u001b[0;34m\u001b[0m\u001b[0;34m\u001b[0m\u001b[0m\n\u001b[1;32m     19\u001b[0m \u001b[0mprint\u001b[0m\u001b[0;34m(\u001b[0m\u001b[0;34m\"\"\u001b[0m\u001b[0;34m)\u001b[0m\u001b[0;34m\u001b[0m\u001b[0;34m\u001b[0m\u001b[0m\n\u001b[0;32m---> 20\u001b[0;31m \u001b[0mchoice\u001b[0m \u001b[0;34m=\u001b[0m \u001b[0mint\u001b[0m\u001b[0;34m(\u001b[0m\u001b[0minput\u001b[0m\u001b[0;34m(\u001b[0m\u001b[0;34m\"Choose one of these to post(#): \"\u001b[0m\u001b[0;34m)\u001b[0m \u001b[0;34m)\u001b[0m\u001b[0;34m\u001b[0m\u001b[0;34m\u001b[0m\u001b[0m\n\u001b[0m\u001b[1;32m     21\u001b[0m \u001b[0;32mif\u001b[0m \u001b[0mchoice\u001b[0m\u001b[0;34m>\u001b[0m\u001b[0;36m0\u001b[0m \u001b[0;32mand\u001b[0m \u001b[0mchoice\u001b[0m\u001b[0;34m<\u001b[0m\u001b[0;36m6\u001b[0m\u001b[0;34m:\u001b[0m \u001b[0;31m#tweet if they choose a valid number\u001b[0m\u001b[0;34m\u001b[0m\u001b[0;34m\u001b[0m\u001b[0m\n\u001b[1;32m     22\u001b[0m   \u001b[0mapi\u001b[0m\u001b[0;34m.\u001b[0m\u001b[0mupdate_status\u001b[0m\u001b[0;34m(\u001b[0m\u001b[0mstatus\u001b[0m\u001b[0;34m=\u001b[0m\u001b[0mpossible_tweets\u001b[0m\u001b[0;34m[\u001b[0m\u001b[0mchoice\u001b[0m\u001b[0;34m-\u001b[0m\u001b[0;36m1\u001b[0m\u001b[0;34m]\u001b[0m\u001b[0;34m)\u001b[0m\u001b[0;34m\u001b[0m\u001b[0;34m\u001b[0m\u001b[0m\n",
            "\u001b[0;32m/usr/local/lib/python3.6/dist-packages/ipykernel/kernelbase.py\u001b[0m in \u001b[0;36mraw_input\u001b[0;34m(self, prompt)\u001b[0m\n\u001b[1;32m    702\u001b[0m             \u001b[0mself\u001b[0m\u001b[0;34m.\u001b[0m\u001b[0m_parent_ident\u001b[0m\u001b[0;34m,\u001b[0m\u001b[0;34m\u001b[0m\u001b[0;34m\u001b[0m\u001b[0m\n\u001b[1;32m    703\u001b[0m             \u001b[0mself\u001b[0m\u001b[0;34m.\u001b[0m\u001b[0m_parent_header\u001b[0m\u001b[0;34m,\u001b[0m\u001b[0;34m\u001b[0m\u001b[0;34m\u001b[0m\u001b[0m\n\u001b[0;32m--> 704\u001b[0;31m             \u001b[0mpassword\u001b[0m\u001b[0;34m=\u001b[0m\u001b[0;32mFalse\u001b[0m\u001b[0;34m,\u001b[0m\u001b[0;34m\u001b[0m\u001b[0;34m\u001b[0m\u001b[0m\n\u001b[0m\u001b[1;32m    705\u001b[0m         )\n\u001b[1;32m    706\u001b[0m \u001b[0;34m\u001b[0m\u001b[0m\n",
            "\u001b[0;32m/usr/local/lib/python3.6/dist-packages/ipykernel/kernelbase.py\u001b[0m in \u001b[0;36m_input_request\u001b[0;34m(self, prompt, ident, parent, password)\u001b[0m\n\u001b[1;32m    732\u001b[0m             \u001b[0;32mexcept\u001b[0m \u001b[0mKeyboardInterrupt\u001b[0m\u001b[0;34m:\u001b[0m\u001b[0;34m\u001b[0m\u001b[0;34m\u001b[0m\u001b[0m\n\u001b[1;32m    733\u001b[0m                 \u001b[0;31m# re-raise KeyboardInterrupt, to truncate traceback\u001b[0m\u001b[0;34m\u001b[0m\u001b[0;34m\u001b[0m\u001b[0;34m\u001b[0m\u001b[0m\n\u001b[0;32m--> 734\u001b[0;31m                 \u001b[0;32mraise\u001b[0m \u001b[0mKeyboardInterrupt\u001b[0m\u001b[0;34m\u001b[0m\u001b[0;34m\u001b[0m\u001b[0m\n\u001b[0m\u001b[1;32m    735\u001b[0m             \u001b[0;32melse\u001b[0m\u001b[0;34m:\u001b[0m\u001b[0;34m\u001b[0m\u001b[0;34m\u001b[0m\u001b[0m\n\u001b[1;32m    736\u001b[0m                 \u001b[0;32mbreak\u001b[0m\u001b[0;34m\u001b[0m\u001b[0;34m\u001b[0m\u001b[0m\n",
            "\u001b[0;31mKeyboardInterrupt\u001b[0m: "
          ]
        }
      ]
    }
  ]
}